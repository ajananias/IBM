{
 "cells": [
  {
   "cell_type": "markdown",
   "id": "afa22924-4eae-4881-a79c-4b321c4e28e9",
   "metadata": {},
   "source": [
    "# Data Science Tools and Ecosystem"
   ]
  },
  {
   "cell_type": "markdown",
   "id": "78f1324a-6780-4abc-873a-6e5d516f70d3",
   "metadata": {},
   "source": [
    "## In this notebook, Data Science Tools and Ecosystem are summarized."
   ]
  },
  {
   "cell_type": "markdown",
   "id": "898cb20f-bd07-4776-a9d4-25a39e9174de",
   "metadata": {},
   "source": [
    "### **Objectives:**\n",
    "* List popular languages used in Data Science\n",
    "* List commonly used libraries used by Data Scientists\n",
    "* Create a table that contains three Data Science Tools\n",
    "* Evaluate arithmetic expressions in the current jupyter notebook"
   ]
  },
  {
   "cell_type": "markdown",
   "id": "553b9846-0132-400f-82bb-c0cbabbd82d7",
   "metadata": {
    "jp-MarkdownHeadingCollapsed": true
   },
   "source": [
    "### Some of the popular languages that Data Scientists use are:\n",
    "1. R\n",
    "2. Python\n",
    "3. Julia\n",
    "4. SQL\n",
    "5. Scala\n",
    "6. Java\n",
    "7. C++"
   ]
  },
  {
   "cell_type": "markdown",
   "id": "78593e0b-e36e-4f2d-b28a-e67351bdf629",
   "metadata": {},
   "source": [
    "### Some of the commonly used libraries used by Data Scientists include:\n",
    "1. Pandas\n",
    "2. Numpy\n",
    "3. matplotlib\n",
    "4. Seaborn\n",
    "5. Scikit-learn\n",
    "6. keras\n",
    "7. Tensorflow\n",
    "8. PyTorch"
   ]
  },
  {
   "cell_type": "markdown",
   "id": "2592b187-b42d-48f6-8c11-e731fd759e70",
   "metadata": {},
   "source": [
    "| Data Science Tools |\n",
    "|------|\n",
    "| Jupyter |\n",
    "| R Studio |\n",
    "| Apache Spark |"
   ]
  },
  {
   "cell_type": "markdown",
   "id": "092aed33-2be5-4f8f-b1b6-d2640e1aeb68",
   "metadata": {},
   "source": [
    "### Below are a few examples of evaluating arithmetic expressions in Python"
   ]
  },
  {
   "cell_type": "code",
   "execution_count": 10,
   "id": "22da6a7f-ef3a-42e5-85eb-c6f36c520d63",
   "metadata": {},
   "outputs": [
    {
     "data": {
      "text/plain": [
       "17"
      ]
     },
     "execution_count": 10,
     "metadata": {},
     "output_type": "execute_result"
    }
   ],
   "source": [
    "# This is a simple arithmetic expression to multiply and then add integers.\n",
    "(3*4)+5"
   ]
  },
  {
   "cell_type": "code",
   "execution_count": 20,
   "id": "7b8501c7-69ab-45db-b9ee-c7da887d93d5",
   "metadata": {},
   "outputs": [
    {
     "name": "stdout",
     "output_type": "stream",
     "text": [
      "hours= 3.3333333333333335\n"
     ]
    }
   ],
   "source": [
    "# This will convert 200 minutes into hours by dividing by 60\n",
    "minutes = 200\n",
    "hours = minutes/60\n",
    "print (\"hours=\", hours)"
   ]
  },
  {
   "cell_type": "markdown",
   "id": "bd187d1b-525d-4753-b0ec-30ff8465303e",
   "metadata": {},
   "source": [
    "## Author\n",
    "Arturo Ananias"
   ]
  },
  {
   "cell_type": "code",
   "execution_count": null,
   "id": "d324427b-f70b-4ab6-8c76-36bc1b6653e7",
   "metadata": {},
   "outputs": [],
   "source": []
  }
 ],
 "metadata": {
  "kernelspec": {
   "display_name": "Python 3 (ipykernel)",
   "language": "python",
   "name": "python3"
  },
  "language_info": {
   "codemirror_mode": {
    "name": "ipython",
    "version": 3
   },
   "file_extension": ".py",
   "mimetype": "text/x-python",
   "name": "python",
   "nbconvert_exporter": "python",
   "pygments_lexer": "ipython3",
   "version": "3.11.7"
  }
 },
 "nbformat": 4,
 "nbformat_minor": 5
}
